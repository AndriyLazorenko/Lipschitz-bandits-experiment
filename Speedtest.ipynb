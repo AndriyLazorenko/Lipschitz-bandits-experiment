{
 "cells": [
  {
   "cell_type": "code",
   "execution_count": 2,
   "id": "demanding-creek",
   "metadata": {},
   "outputs": [
    {
     "data": {
      "text/plain": [
       "[{'timestep': 0,\n",
       "  'rewards': [0.6168091360922601,\n",
       "   0.45010675346180373,\n",
       "   0.17861314966816788,\n",
       "   0.13822255652399063],\n",
       "  'suboptimality_gap': 1.0},\n",
       " {'timestep': 1,\n",
       "  'rewards': [0.5599148098611836,\n",
       "   0.40373588326094056,\n",
       "   0.8702656328641833,\n",
       "   0.8547079204524509],\n",
       "  'suboptimality_gap': 0.5},\n",
       " {'timestep': 2,\n",
       "  'rewards': [0.3710749529582965,\n",
       "   0.7197011053964462,\n",
       "   0.7393108461386734,\n",
       "   0.5997973102291433],\n",
       "  'suboptimality_gap': 0.3333333333333333},\n",
       " {'timestep': 3,\n",
       "  'rewards': [0.33018498489346304,\n",
       "   0.028222557046616026,\n",
       "   0.09483660973173125,\n",
       "   0.7159929063443455],\n",
       "  'suboptimality_gap': 0.25},\n",
       " {'timestep': 4,\n",
       "  'rewards': [0.9564196736534121,\n",
       "   0.3259820100524562,\n",
       "   0.11166871303834369,\n",
       "   0.185413522589858],\n",
       "  'suboptimality_gap': 0.2}]"
      ]
     },
     "execution_count": 2,
     "metadata": {},
     "output_type": "execute_result"
    }
   ],
   "source": [
    "import numpy as np\n",
    "\n",
    "test_arr = list()\n",
    "for i in range(1000):\n",
    "    entry = {\n",
    "        \"timestep\": i,\n",
    "        \"rewards\": [np.random.uniform(), np.random.uniform(), np.random.uniform(), np.random.uniform()],\n",
    "        \"suboptimality_gap\": 1/(i+1)\n",
    "            }\n",
    "#     entry = [i, [np.random.uniform(), np.random.uniform(), np.random.uniform(), np.random.uniform()], 1/(i+1)]\n",
    "#     entry = i\n",
    "    test_arr.append(entry)\n",
    "\n",
    "test_arr[:5]"
   ]
  },
  {
   "cell_type": "code",
   "execution_count": 78,
   "id": "organic-fellow",
   "metadata": {},
   "outputs": [],
   "source": [
    "def exponential_weighting(timestep: int, rewards: list = [np.random.uniform(), np.random.uniform(), np.random.uniform(), np.random.uniform()], suboptimality_gap: float = 0.5) -> list:\n",
    "    learning_rate = min([1/4, np.sqrt(np.log(4) / (np.dot(timestep, suboptimality_gap)))])\n",
    "#     learning_rate = min([1 / 4, np.sqrt(np.log(4) / (timestep * suboptimality_gap))]\n",
    "    for_ret = [np.exp(learning_rate * rewards[i]) / np.sum(np.exp(np.dot(rewards, learning_rate))) for i in range(4)]\n",
    "#     for_ret = [np.exp(learning_rate * rewards[i]) / np.sum(np.exp(np.dot(rewards, learning_rate))) for i in range(4)]\n",
    "    return for_ret"
   ]
  },
  {
   "cell_type": "code",
   "execution_count": 113,
   "id": "revised-collective",
   "metadata": {},
   "outputs": [
    {
     "name": "stdout",
     "output_type": "stream",
     "text": [
      "CPU times: user 9 µs, sys: 1e+03 ns, total: 10 µs\n",
      "Wall time: 16.7 µs\n"
     ]
    },
    {
     "name": "stderr",
     "output_type": "stream",
     "text": [
      "<ipython-input-78-670614502fb8>:2: RuntimeWarning: divide by zero encountered in double_scalars\n",
      "  learning_rate = min([1/4, np.sqrt(np.log(4) / (np.dot(timestep, suboptimality_gap)))])\n"
     ]
    }
   ],
   "source": [
    "%time\n",
    "res = list()\n",
    "for t in test_arr:\n",
    "    res.append(exponential_weighting(**t))\n",
    "# print(res)"
   ]
  },
  {
   "cell_type": "code",
   "execution_count": 7,
   "id": "organizational-baghdad",
   "metadata": {},
   "outputs": [
    {
     "data": {
      "text/plain": [
       "array([ 0, -1, -2])"
      ]
     },
     "execution_count": 7,
     "metadata": {},
     "output_type": "execute_result"
    }
   ],
   "source": [
    "a = np.array([1,2,3])\n",
    "b = 1\n",
    "(a > b) * (b-a)"
   ]
  },
  {
   "cell_type": "code",
   "execution_count": 18,
   "id": "reflected-charlotte",
   "metadata": {},
   "outputs": [
    {
     "data": {
      "text/plain": [
       "array([[2.5]])"
      ]
     },
     "execution_count": 18,
     "metadata": {},
     "output_type": "execute_result"
    }
   ],
   "source": [
    "a = np.array([[0.25, 0.25, 0.25, 0.25]])\n",
    "b = np.array([[4, 3, 2, 1]])\n",
    "c = np.dot(a,b.T)\n",
    "c"
   ]
  }
 ],
 "metadata": {
  "kernelspec": {
   "display_name": "Python [conda env:youappi_eda] *",
   "language": "python",
   "name": "conda-env-youappi_eda-py"
  },
  "language_info": {
   "codemirror_mode": {
    "name": "ipython",
    "version": 3
   },
   "file_extension": ".py",
   "mimetype": "text/x-python",
   "name": "python",
   "nbconvert_exporter": "python",
   "pygments_lexer": "ipython3",
   "version": "3.8.8"
  }
 },
 "nbformat": 4,
 "nbformat_minor": 5
}
